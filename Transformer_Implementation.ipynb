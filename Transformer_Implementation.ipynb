{
  "nbformat": 4,
  "nbformat_minor": 0,
  "metadata": {
    "colab": {
      "provenance": [],
      "gpuType": "T4"
    },
    "kernelspec": {
      "name": "python3",
      "display_name": "Python 3"
    },
    "language_info": {
      "name": "python"
    },
    "accelerator": "GPU"
  },
  "cells": [
    {
      "cell_type": "markdown",
      "source": [
        "# Transformer Implementation from Scratch\n",
        "This notebook contains my implementation of a Transformer model from scratch The goal is to build and understand key components, including self-attention, multi-head attention, and positional encodings, and assemble them into a working Transformer. <br>\n",
        "\n",
        "Readings I did beforehand:\n",
        "\n",
        "- https://www.datacamp.com/tutorial/how-transformers-work\n",
        "- https://www.run.ai/guides/generative-ai/transformer-model\n",
        "\n"
      ],
      "metadata": {
        "id": "BaXZjE3S-uPu"
      }
    },
    {
      "cell_type": "code",
      "execution_count": 1,
      "metadata": {
        "colab": {
          "base_uri": "https://localhost:8080/"
        },
        "id": "NIDm57nP-g05",
        "outputId": "8b3251d6-0180-45f7-cb2c-7fb61bb98d64"
      },
      "outputs": [
        {
          "output_type": "stream",
          "name": "stdout",
          "text": [
            "Requirement already satisfied: torch in /usr/local/lib/python3.11/dist-packages (2.5.1+cu121)\n",
            "Requirement already satisfied: torchvision in /usr/local/lib/python3.11/dist-packages (0.20.1+cu121)\n",
            "Requirement already satisfied: torchaudio in /usr/local/lib/python3.11/dist-packages (2.5.1+cu121)\n",
            "Requirement already satisfied: filelock in /usr/local/lib/python3.11/dist-packages (from torch) (3.17.0)\n",
            "Requirement already satisfied: typing-extensions>=4.8.0 in /usr/local/lib/python3.11/dist-packages (from torch) (4.12.2)\n",
            "Requirement already satisfied: networkx in /usr/local/lib/python3.11/dist-packages (from torch) (3.4.2)\n",
            "Requirement already satisfied: jinja2 in /usr/local/lib/python3.11/dist-packages (from torch) (3.1.5)\n",
            "Requirement already satisfied: fsspec in /usr/local/lib/python3.11/dist-packages (from torch) (2024.10.0)\n",
            "Requirement already satisfied: nvidia-cuda-nvrtc-cu12==12.1.105 in /usr/local/lib/python3.11/dist-packages (from torch) (12.1.105)\n",
            "Requirement already satisfied: nvidia-cuda-runtime-cu12==12.1.105 in /usr/local/lib/python3.11/dist-packages (from torch) (12.1.105)\n",
            "Requirement already satisfied: nvidia-cuda-cupti-cu12==12.1.105 in /usr/local/lib/python3.11/dist-packages (from torch) (12.1.105)\n",
            "Requirement already satisfied: nvidia-cudnn-cu12==9.1.0.70 in /usr/local/lib/python3.11/dist-packages (from torch) (9.1.0.70)\n",
            "Requirement already satisfied: nvidia-cublas-cu12==12.1.3.1 in /usr/local/lib/python3.11/dist-packages (from torch) (12.1.3.1)\n",
            "Requirement already satisfied: nvidia-cufft-cu12==11.0.2.54 in /usr/local/lib/python3.11/dist-packages (from torch) (11.0.2.54)\n",
            "Requirement already satisfied: nvidia-curand-cu12==10.3.2.106 in /usr/local/lib/python3.11/dist-packages (from torch) (10.3.2.106)\n",
            "Requirement already satisfied: nvidia-cusolver-cu12==11.4.5.107 in /usr/local/lib/python3.11/dist-packages (from torch) (11.4.5.107)\n",
            "Requirement already satisfied: nvidia-cusparse-cu12==12.1.0.106 in /usr/local/lib/python3.11/dist-packages (from torch) (12.1.0.106)\n",
            "Requirement already satisfied: nvidia-nccl-cu12==2.21.5 in /usr/local/lib/python3.11/dist-packages (from torch) (2.21.5)\n",
            "Requirement already satisfied: nvidia-nvtx-cu12==12.1.105 in /usr/local/lib/python3.11/dist-packages (from torch) (12.1.105)\n",
            "Requirement already satisfied: triton==3.1.0 in /usr/local/lib/python3.11/dist-packages (from torch) (3.1.0)\n",
            "Requirement already satisfied: sympy==1.13.1 in /usr/local/lib/python3.11/dist-packages (from torch) (1.13.1)\n",
            "Requirement already satisfied: nvidia-nvjitlink-cu12 in /usr/local/lib/python3.11/dist-packages (from nvidia-cusolver-cu12==11.4.5.107->torch) (12.8.61)\n",
            "Requirement already satisfied: mpmath<1.4,>=1.1.0 in /usr/local/lib/python3.11/dist-packages (from sympy==1.13.1->torch) (1.3.0)\n",
            "Requirement already satisfied: numpy in /usr/local/lib/python3.11/dist-packages (from torchvision) (1.26.4)\n",
            "Requirement already satisfied: pillow!=8.3.*,>=5.3.0 in /usr/local/lib/python3.11/dist-packages (from torchvision) (11.1.0)\n",
            "Requirement already satisfied: MarkupSafe>=2.0 in /usr/local/lib/python3.11/dist-packages (from jinja2->torch) (3.0.2)\n"
          ]
        }
      ],
      "source": [
        "# Install PyTorch\n",
        "!pip3 install torch torchvision torchaudio\n",
        "\n",
        "import torch\n",
        "import torch.nn as nn\n",
        "import torch.optim as optim\n",
        "import torch.utils.data as data\n",
        "import math\n",
        "import copy"
      ]
    },
    {
      "cell_type": "code",
      "source": [
        "class MultiHeadAttention(nn.Module):\n",
        "    def __init__(self, d_model, num_heads):\n",
        "        super(MultiHeadAttention, self).__init__()\n",
        "        # Ensure that the model dimension (d_model) is divisible by the number of heads\n",
        "        assert d_model % num_heads == 0, \"d_model must be divisible by num_heads\"\n",
        "\n",
        "        # Initialize dimensions\n",
        "        self.d_model = d_model # Model's dimension\n",
        "        self.num_heads = num_heads # Number of attention heads\n",
        "        self.d_k = d_model // num_heads # Dimension of each head's key, query, and value\n",
        "\n",
        "        # Linear layers for transforming inputs\n",
        "        self.W_q = nn.Linear(d_model, d_model) # Query transformation\n",
        "        self.W_k = nn.Linear(d_model, d_model) # Key transformation\n",
        "        self.W_v = nn.Linear(d_model, d_model) # Value transformation\n",
        "        self.W_o = nn.Linear(d_model, d_model) # Output transformation\n",
        "\n",
        "    def scaled_dot_product_attention(self, Q, K, V, mask=None):\n",
        "        # Calculate attention scores\n",
        "        attn_scores = torch.matmul(Q, K.transpose(-2, -1)) / math.sqrt(self.d_k)\n",
        "\n",
        "        # Apply mask if provided (useful for preventing attention to certain parts like padding)\n",
        "        if mask is not None:\n",
        "            attn_scores = attn_scores.masked_fill(mask == 0, -1e9)\n",
        "\n",
        "        # Softmax is applied to obtain attention probabilities\n",
        "        attn_probs = torch.softmax(attn_scores, dim=-1)\n",
        "\n",
        "        # Multiply by values to obtain the final output\n",
        "        output = torch.matmul(attn_probs, V)\n",
        "        return output\n",
        "\n",
        "    def split_heads(self, x):\n",
        "        # Reshape the input to have num_heads for multi-head attention\n",
        "        batch_size, seq_length, d_model = x.size()\n",
        "        return x.view(batch_size, seq_length, self.num_heads, self.d_k).transpose(1, 2)\n",
        "\n",
        "    def combine_heads(self, x):\n",
        "        # Combine the multiple heads back to original shape\n",
        "        batch_size, _, seq_length, d_k = x.size()\n",
        "        return x.transpose(1, 2).contiguous().view(batch_size, seq_length, self.d_model)\n",
        "\n",
        "    def forward(self, Q, K, V, mask=None):\n",
        "        # Apply linear transformations and split heads\n",
        "        Q = self.split_heads(self.W_q(Q))\n",
        "        K = self.split_heads(self.W_k(K))\n",
        "        V = self.split_heads(self.W_v(V))\n",
        "\n",
        "        # Perform scaled dot-product attention\n",
        "        attn_output = self.scaled_dot_product_attention(Q, K, V, mask)\n",
        "\n",
        "        # Combine heads and apply output transformation\n",
        "        output = self.W_o(self.combine_heads(attn_output))\n",
        "        return output"
      ],
      "metadata": {
        "id": "5uCiFgdqAKio"
      },
      "execution_count": 2,
      "outputs": []
    },
    {
      "cell_type": "code",
      "source": [
        "class PositionWiseFeedForward(nn.Module):\n",
        "    def __init__(self, d_model, d_ff):\n",
        "        super(PositionWiseFeedForward, self).__init__()\n",
        "        self.fc1 = nn.Linear(d_model, d_ff)\n",
        "        self.fc2 = nn.Linear(d_ff, d_model)\n",
        "        self.relu = nn.ReLU()\n",
        "\n",
        "    def forward(self, x):\n",
        "        return self.fc2(self.relu(self.fc1(x)))"
      ],
      "metadata": {
        "id": "gchpR0sMgtlT"
      },
      "execution_count": 3,
      "outputs": []
    },
    {
      "cell_type": "code",
      "source": [
        "class PositionalEncoding(nn.Module):\n",
        "    def __init__(self, d_model, max_seq_length):\n",
        "        super(PositionalEncoding, self).__init__()\n",
        "\n",
        "        pe = torch.zeros(max_seq_length, d_model)\n",
        "        position = torch.arange(0, max_seq_length, dtype=torch.float).unsqueeze(1)\n",
        "        div_term = torch.exp(torch.arange(0, d_model, 2).float() * -(math.log(10000.0) / d_model))\n",
        "\n",
        "        pe[:, 0::2] = torch.sin(position * div_term)\n",
        "        pe[:, 1::2] = torch.cos(position * div_term)\n",
        "\n",
        "        self.register_buffer('pe', pe.unsqueeze(0))\n",
        "\n",
        "    def forward(self, x):\n",
        "        return x + self.pe[:, :x.size(1)]"
      ],
      "metadata": {
        "id": "ytSp8AIEgzOv"
      },
      "execution_count": 4,
      "outputs": []
    },
    {
      "cell_type": "markdown",
      "source": [],
      "metadata": {
        "id": "PDQz2SZvg17y"
      }
    },
    {
      "cell_type": "code",
      "source": [
        "class EncoderLayer(nn.Module):\n",
        "    def __init__(self, d_model, num_heads, d_ff, dropout):\n",
        "        super(EncoderLayer, self).__init__()\n",
        "        self.self_attn = MultiHeadAttention(d_model, num_heads)\n",
        "        self.feed_forward = PositionWiseFeedForward(d_model, d_ff)\n",
        "        self.norm1 = nn.LayerNorm(d_model)\n",
        "        self.norm2 = nn.LayerNorm(d_model)\n",
        "        self.dropout = nn.Dropout(dropout)\n",
        "\n",
        "    def forward(self, x, mask):\n",
        "        attn_output = self.self_attn(x, x, x, mask)\n",
        "        x = self.norm1(x + self.dropout(attn_output))\n",
        "        ff_output = self.feed_forward(x)\n",
        "        x = self.norm2(x + self.dropout(ff_output))\n",
        "        return x"
      ],
      "metadata": {
        "id": "JdXbXU9cg2Ru"
      },
      "execution_count": 5,
      "outputs": []
    },
    {
      "cell_type": "markdown",
      "source": [],
      "metadata": {
        "id": "TY5pSK4Zg57Y"
      }
    },
    {
      "cell_type": "code",
      "source": [
        "class DecoderLayer(nn.Module):\n",
        "    def __init__(self, d_model, num_heads, d_ff, dropout):\n",
        "        super(DecoderLayer, self).__init__()\n",
        "        self.self_attn = MultiHeadAttention(d_model, num_heads)\n",
        "        self.cross_attn = MultiHeadAttention(d_model, num_heads)\n",
        "        self.feed_forward = PositionWiseFeedForward(d_model, d_ff)\n",
        "        self.norm1 = nn.LayerNorm(d_model)\n",
        "        self.norm2 = nn.LayerNorm(d_model)\n",
        "        self.norm3 = nn.LayerNorm(d_model)\n",
        "        self.dropout = nn.Dropout(dropout)\n",
        "\n",
        "    def forward(self, x, enc_output, src_mask, tgt_mask):\n",
        "        attn_output = self.self_attn(x, x, x, tgt_mask)\n",
        "        x = self.norm1(x + self.dropout(attn_output))\n",
        "        attn_output = self.cross_attn(x, enc_output, enc_output, src_mask)\n",
        "        x = self.norm2(x + self.dropout(attn_output))\n",
        "        ff_output = self.feed_forward(x)\n",
        "        x = self.norm3(x + self.dropout(ff_output))\n",
        "        return x"
      ],
      "metadata": {
        "id": "WPmJ9f0-g6IX"
      },
      "execution_count": 6,
      "outputs": []
    },
    {
      "cell_type": "markdown",
      "source": [],
      "metadata": {
        "id": "xsJ2DW6uhBFk"
      }
    },
    {
      "cell_type": "code",
      "source": [
        "class Transformer(nn.Module):\n",
        "    def __init__(self, src_vocab_size, tgt_vocab_size, d_model, num_heads, num_layers, d_ff, max_seq_length, dropout):\n",
        "        super(Transformer, self).__init__()\n",
        "        self.encoder_embedding = nn.Embedding(src_vocab_size, d_model)\n",
        "        self.decoder_embedding = nn.Embedding(tgt_vocab_size, d_model)\n",
        "        self.positional_encoding = PositionalEncoding(d_model, max_seq_length)\n",
        "\n",
        "        self.encoder_layers = nn.ModuleList([EncoderLayer(d_model, num_heads, d_ff, dropout) for _ in range(num_layers)])\n",
        "        self.decoder_layers = nn.ModuleList([DecoderLayer(d_model, num_heads, d_ff, dropout) for _ in range(num_layers)])\n",
        "\n",
        "        self.fc = nn.Linear(d_model, tgt_vocab_size)\n",
        "        self.dropout = nn.Dropout(dropout)\n",
        "\n",
        "    def generate_mask(self, src, tgt):\n",
        "        src_mask = (src != 0).unsqueeze(1).unsqueeze(2)\n",
        "        tgt_mask = (tgt != 0).unsqueeze(1).unsqueeze(3)\n",
        "        seq_length = tgt.size(1)\n",
        "        nopeak_mask = (1 - torch.triu(torch.ones(1, seq_length, seq_length), diagonal=1)).bool()\n",
        "        tgt_mask = tgt_mask & nopeak_mask\n",
        "        return src_mask, tgt_mask\n",
        "\n",
        "    def forward(self, src, tgt):\n",
        "        src_mask, tgt_mask = self.generate_mask(src, tgt)\n",
        "        src_embedded = self.dropout(self.positional_encoding(self.encoder_embedding(src)))\n",
        "        tgt_embedded = self.dropout(self.positional_encoding(self.decoder_embedding(tgt)))\n",
        "\n",
        "        enc_output = src_embedded\n",
        "        for enc_layer in self.encoder_layers:\n",
        "            enc_output = enc_layer(enc_output, src_mask)\n",
        "\n",
        "        dec_output = tgt_embedded\n",
        "        for dec_layer in self.decoder_layers:\n",
        "            dec_output = dec_layer(dec_output, enc_output, src_mask, tgt_mask)\n",
        "\n",
        "        output = self.fc(dec_output)\n",
        "        return output"
      ],
      "metadata": {
        "id": "Nd9tcR2IhA02"
      },
      "execution_count": 7,
      "outputs": []
    },
    {
      "cell_type": "markdown",
      "source": [],
      "metadata": {
        "id": "vuCmcbowhG_L"
      }
    },
    {
      "cell_type": "code",
      "source": [
        "src_vocab_size = 5000\n",
        "tgt_vocab_size = 5000\n",
        "d_model = 512\n",
        "num_heads = 8\n",
        "num_layers = 6\n",
        "d_ff = 2048\n",
        "max_seq_length = 100\n",
        "dropout = 0.1\n",
        "\n",
        "transformer = Transformer(src_vocab_size, tgt_vocab_size, d_model, num_heads, num_layers, d_ff, max_seq_length, dropout)\n",
        "\n",
        "# Generate random sample data\n",
        "src_data = torch.randint(1, src_vocab_size, (64, max_seq_length))  # (batch_size, seq_length)\n",
        "tgt_data = torch.randint(1, tgt_vocab_size, (64, max_seq_length))  # (batch_size, seq_length)"
      ],
      "metadata": {
        "id": "ij40vlF2hHNJ"
      },
      "execution_count": 8,
      "outputs": []
    },
    {
      "cell_type": "code",
      "source": [
        "criterion = nn.CrossEntropyLoss(ignore_index=0)\n",
        "optimizer = optim.Adam(transformer.parameters(), lr=0.0001, betas=(0.9, 0.98), eps=1e-9)\n",
        "\n",
        "transformer.train()\n",
        "\n",
        "for epoch in range(100):\n",
        "    optimizer.zero_grad()\n",
        "    output = transformer(src_data, tgt_data[:, :-1])\n",
        "    loss = criterion(output.contiguous().view(-1, tgt_vocab_size), tgt_data[:, 1:].contiguous().view(-1))\n",
        "    loss.backward()\n",
        "    optimizer.step()\n",
        "    print(f\"Epoch: {epoch+1}, Loss: {loss.item()}\")"
      ],
      "metadata": {
        "id": "B7K7wBN6hJ5q",
        "colab": {
          "base_uri": "https://localhost:8080/"
        },
        "outputId": "957743f8-fdc6-4c87-b832-47f1ddf7344d"
      },
      "execution_count": 9,
      "outputs": [
        {
          "output_type": "stream",
          "name": "stdout",
          "text": [
            "Epoch: 1, Loss: 8.685628890991211\n",
            "Epoch: 2, Loss: 8.555648803710938\n",
            "Epoch: 3, Loss: 8.482460975646973\n",
            "Epoch: 4, Loss: 8.424128532409668\n",
            "Epoch: 5, Loss: 8.367650032043457\n",
            "Epoch: 6, Loss: 8.296627044677734\n",
            "Epoch: 7, Loss: 8.22171401977539\n",
            "Epoch: 8, Loss: 8.134033203125\n",
            "Epoch: 9, Loss: 8.0482816696167\n",
            "Epoch: 10, Loss: 7.9633965492248535\n",
            "Epoch: 11, Loss: 7.884988307952881\n",
            "Epoch: 12, Loss: 7.80397367477417\n",
            "Epoch: 13, Loss: 7.724116802215576\n",
            "Epoch: 14, Loss: 7.641784191131592\n",
            "Epoch: 15, Loss: 7.559142589569092\n",
            "Epoch: 16, Loss: 7.469700813293457\n",
            "Epoch: 17, Loss: 7.3824310302734375\n",
            "Epoch: 18, Loss: 7.306312561035156\n",
            "Epoch: 19, Loss: 7.225324630737305\n",
            "Epoch: 20, Loss: 7.147197246551514\n",
            "Epoch: 21, Loss: 7.068760871887207\n",
            "Epoch: 22, Loss: 6.990299224853516\n",
            "Epoch: 23, Loss: 6.906105041503906\n",
            "Epoch: 24, Loss: 6.835909843444824\n",
            "Epoch: 25, Loss: 6.751886367797852\n",
            "Epoch: 26, Loss: 6.673945426940918\n",
            "Epoch: 27, Loss: 6.611165523529053\n",
            "Epoch: 28, Loss: 6.5515642166137695\n",
            "Epoch: 29, Loss: 6.474643230438232\n",
            "Epoch: 30, Loss: 6.398523330688477\n",
            "Epoch: 31, Loss: 6.335338115692139\n",
            "Epoch: 32, Loss: 6.255179405212402\n",
            "Epoch: 33, Loss: 6.185430526733398\n",
            "Epoch: 34, Loss: 6.1169753074646\n",
            "Epoch: 35, Loss: 6.061569690704346\n",
            "Epoch: 36, Loss: 5.987077713012695\n",
            "Epoch: 37, Loss: 5.931244373321533\n",
            "Epoch: 38, Loss: 5.8659138679504395\n",
            "Epoch: 39, Loss: 5.80128288269043\n",
            "Epoch: 40, Loss: 5.736904144287109\n",
            "Epoch: 41, Loss: 5.676164150238037\n",
            "Epoch: 42, Loss: 5.615145683288574\n",
            "Epoch: 43, Loss: 5.553765773773193\n",
            "Epoch: 44, Loss: 5.500245571136475\n",
            "Epoch: 45, Loss: 5.440202713012695\n",
            "Epoch: 46, Loss: 5.379828453063965\n",
            "Epoch: 47, Loss: 5.319838523864746\n",
            "Epoch: 48, Loss: 5.256220817565918\n",
            "Epoch: 49, Loss: 5.201304912567139\n",
            "Epoch: 50, Loss: 5.150084018707275\n",
            "Epoch: 51, Loss: 5.092097282409668\n",
            "Epoch: 52, Loss: 5.034772872924805\n",
            "Epoch: 53, Loss: 4.9815216064453125\n",
            "Epoch: 54, Loss: 4.92550802230835\n",
            "Epoch: 55, Loss: 4.872037887573242\n",
            "Epoch: 56, Loss: 4.813389778137207\n",
            "Epoch: 57, Loss: 4.76458215713501\n",
            "Epoch: 58, Loss: 4.710564613342285\n",
            "Epoch: 59, Loss: 4.650313854217529\n",
            "Epoch: 60, Loss: 4.6034111976623535\n",
            "Epoch: 61, Loss: 4.545937538146973\n",
            "Epoch: 62, Loss: 4.499294281005859\n",
            "Epoch: 63, Loss: 4.450105667114258\n",
            "Epoch: 64, Loss: 4.402071475982666\n",
            "Epoch: 65, Loss: 4.346179485321045\n",
            "Epoch: 66, Loss: 4.302229404449463\n",
            "Epoch: 67, Loss: 4.246523857116699\n",
            "Epoch: 68, Loss: 4.19675874710083\n",
            "Epoch: 69, Loss: 4.145267009735107\n",
            "Epoch: 70, Loss: 4.099196434020996\n",
            "Epoch: 71, Loss: 4.048015117645264\n",
            "Epoch: 72, Loss: 3.9952943325042725\n",
            "Epoch: 73, Loss: 3.9491641521453857\n",
            "Epoch: 74, Loss: 3.9000611305236816\n",
            "Epoch: 75, Loss: 3.859534978866577\n",
            "Epoch: 76, Loss: 3.800490140914917\n",
            "Epoch: 77, Loss: 3.762057304382324\n",
            "Epoch: 78, Loss: 3.7173550128936768\n",
            "Epoch: 79, Loss: 3.6680266857147217\n",
            "Epoch: 80, Loss: 3.6192920207977295\n",
            "Epoch: 81, Loss: 3.5730676651000977\n",
            "Epoch: 82, Loss: 3.523163080215454\n",
            "Epoch: 83, Loss: 3.481233835220337\n",
            "Epoch: 84, Loss: 3.4313650131225586\n",
            "Epoch: 85, Loss: 3.3841917514801025\n",
            "Epoch: 86, Loss: 3.344752073287964\n",
            "Epoch: 87, Loss: 3.300490140914917\n",
            "Epoch: 88, Loss: 3.255995988845825\n",
            "Epoch: 89, Loss: 3.2136662006378174\n",
            "Epoch: 90, Loss: 3.167339563369751\n",
            "Epoch: 91, Loss: 3.117602825164795\n",
            "Epoch: 92, Loss: 3.0722999572753906\n",
            "Epoch: 93, Loss: 3.036120891571045\n",
            "Epoch: 94, Loss: 2.985095500946045\n",
            "Epoch: 95, Loss: 2.9478566646575928\n",
            "Epoch: 96, Loss: 2.8945672512054443\n",
            "Epoch: 97, Loss: 2.8568902015686035\n",
            "Epoch: 98, Loss: 2.8178517818450928\n",
            "Epoch: 99, Loss: 2.777296543121338\n",
            "Epoch: 100, Loss: 2.732213258743286\n"
          ]
        }
      ]
    },
    {
      "cell_type": "code",
      "source": [
        "transformer.eval()\n",
        "\n",
        "# Generate random sample validation data\n",
        "val_src_data = torch.randint(1, src_vocab_size, (64, max_seq_length))  # (batch_size, seq_length)\n",
        "val_tgt_data = torch.randint(1, tgt_vocab_size, (64, max_seq_length))  # (batch_size, seq_length)\n",
        "\n",
        "with torch.no_grad():\n",
        "\n",
        "    val_output = transformer(val_src_data, val_tgt_data[:, :-1])\n",
        "    val_loss = criterion(val_output.contiguous().view(-1, tgt_vocab_size), val_tgt_data[:, 1:].contiguous().view(-1))\n",
        "    print(f\"Validation Loss: {val_loss.item()}\")"
      ],
      "metadata": {
        "id": "4CtuHil4hN7d",
        "colab": {
          "base_uri": "https://localhost:8080/"
        },
        "outputId": "5d36bf51-f7d0-46da-afef-f792ecaf4fcc"
      },
      "execution_count": 10,
      "outputs": [
        {
          "output_type": "stream",
          "name": "stdout",
          "text": [
            "Validation Loss: 8.80759048461914\n"
          ]
        }
      ]
    }
  ]
}